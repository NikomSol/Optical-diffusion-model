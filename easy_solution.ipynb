{
 "cells": [
  {
   "cell_type": "code",
   "execution_count": 322,
   "metadata": {
    "collapsed": false
   },
   "outputs": [],
   "source": [
    "import numpy as np\n",
    "from scipy.sparse.linalg import spsolve\n",
    "import scipy.sparse as sp\n",
    "import matplotlib.pyplot as plt"
   ]
  },
  {
   "cell_type": "code",
   "execution_count": 323,
   "metadata": {},
   "outputs": [],
   "source": [
    "N=10\n",
    "dn=10 ** (-20)\n",
    "M=100\n",
    "dm=10 ** (-12)\n",
    "NT = 6"
   ]
  },
  {
   "cell_type": "code",
   "execution_count": 324,
   "metadata": {},
   "outputs": [],
   "source": [
    "eps1 = 1 * np.ones((NT - 1, M))\n",
    "sigma1 = 0 * np.ones((NT - 1, M))\n",
    "diff1 = 0 * np.ones((NT - 1, M))\n",
    "\n",
    "eps2 = 1 * np.ones((N - NT + 1, M))\n",
    "sigma2 = 10 ** (-3) * np.ones((N - NT + 1, M))\n",
    "diff2 = 10 ** (-9) * np.ones((N - NT + 1, M))\n",
    "\n",
    "eps_all = np.concatenate([eps1, eps2])\n",
    "sigma_all = np.concatenate([sigma1, sigma2])\n",
    "diff_all = np.concatenate([diff1, diff2])\n",
    "\n",
    "eps0 = 8.85 * 10 ** (-12)\n",
    "div_eps0 = 1 / eps0\n"
   ]
  },
  {
   "cell_type": "code",
   "execution_count": 325,
   "metadata": {},
   "outputs": [],
   "source": [
    "#TODO dn в производных\n",
    "def get_system_matrix_internal():\n",
    "    equa_num = (NT - 3) * (M - 2)\n",
    "    row = np.arange(equa_num)\n",
    "    col = np.array([[n * M + m for m in range(1, M - 1)] for n in range(1, NT - 2)]).reshape(equa_num)\n",
    "    data1 = np.ones(equa_num)\n",
    "    data2 = (div_eps0 / eps1[1:-1, 1: - 1]).reshape(equa_num)\n",
    "\n",
    "    poison_air_matrix = (\n",
    "            sp.coo_matrix((-4 * data1, (row, col)), shape=(equa_num, 2 * N * M)) +\n",
    "            sp.coo_matrix((data1, (row, col + 1)), shape=(equa_num, 2 * N * M)) +\n",
    "            sp.coo_matrix((data1, (row, col - 1)), shape=(equa_num, 2 * N * M)) +\n",
    "            sp.coo_matrix((data1, (row, col + M)), shape=(equa_num, 2 * N * M)) +\n",
    "            sp.coo_matrix((data1, (row, col - M)), shape=(equa_num, 2 * N * M)) +\n",
    "            sp.coo_matrix((data2, (row, col + M * N)), shape=(equa_num, 2 * N * M))\n",
    "    )\n",
    "\n",
    "    germgolc_air_matrix = sp.coo_matrix((data1, (row, col + M * N)), shape=(equa_num, 2 * N * M))\n",
    "\n",
    "    # plt.matshow(poison_air_matrix.toarray()[:,:N*M])\n",
    "    # plt.matshow(poison_air_matrix.toarray()[:,N*M:])\n",
    "    # plt.matshow(germgolc_air_matrix.toarray()[:,:N*M])\n",
    "    # plt.matshow(germgolc_air_matrix.toarray()[:,N*M:])\n",
    "    equa_num = (N - NT - 1) * (M - 2)\n",
    "    row = np.arange(equa_num)\n",
    "    col = np.array([[n * M + m for m in range(1, M - 1)] for n in range(NT, N - 1)]).reshape(equa_num)\n",
    "    data1 = np.ones(equa_num)\n",
    "    data2 = (div_eps0 / eps2[1:-1, 1:-1]).reshape(equa_num)\n",
    "\n",
    "    poison_tissue_matrix = (\n",
    "            sp.coo_matrix((-4 * data1, (row, col)), shape=(equa_num, 2 * N * M)) +\n",
    "            sp.coo_matrix((data1, (row, col + 1)), shape=(equa_num, 2 * N * M)) +\n",
    "            sp.coo_matrix((data1, (row, col - 1)), shape=(equa_num, 2 * N * M)) +\n",
    "            sp.coo_matrix((data1, (row, col + M)), shape=(equa_num, 2 * N * M)) +\n",
    "            sp.coo_matrix((data1, (row, col - M)), shape=(equa_num, 2 * N * M)) +\n",
    "            sp.coo_matrix((data2, (row, col + M * N)), shape=(equa_num, 2 * N * M))\n",
    "    )\n",
    "\n",
    "    data1 = np.array(\n",
    "        [0.25 * (diff2[1:-1, 2:] + diff2[1:-1, :-2] +\n",
    "                 diff2[2:, 1:-1] + diff2[:-2, 1:-1]).reshape(equa_num),\n",
    "         0.5 * (diff2[1:-1, 1:-1] + diff2[:-2, 1:-1]).reshape(equa_num),\n",
    "         0.5 * (diff2[1:-1, 1:-1] + diff2[2:, 1:-1]).reshape(equa_num),\n",
    "         0.5 * (diff2[1:-1, 1:-1] + diff2[1:-1, :-2]).reshape(equa_num),\n",
    "         0.5 * (diff2[1:-1, 1:-1] + diff2[1:-1, 2:]).reshape(equa_num)]\n",
    "    )\n",
    "    data2 = div_eps0 * (sigma2[1:-1, 1:-1] / eps2[1:-1, 1:-1]).reshape(equa_num)\n",
    "    germgolc_tissue_matrix = (\n",
    "            sp.coo_matrix((-4 * data1[0] - data2, (row, col)), shape=(equa_num, 2 * N * M)) +\n",
    "            sp.coo_matrix((data1[4], (row, col + 1)), shape=(equa_num, 2 * N * M)) +\n",
    "            sp.coo_matrix((data1[3], (row, col - 1)), shape=(equa_num, 2 * N * M)) +\n",
    "            sp.coo_matrix((data1[2], (row, col + M)), shape=(equa_num, 2 * N * M)) +\n",
    "            sp.coo_matrix((data1[1], (row, col - M)), shape=(equa_num, 2 * N * M))\n",
    "    )\n",
    "    # plt.matshow(poison_tissue_matrix.toarray()[:,:N*M])\n",
    "    # plt.matshow(poison_tissue_matrix.toarray()[:,N*M:])\n",
    "    # plt.matshow(germgolc_tissue_matrix.toarray()[:,:N*M])\n",
    "    # plt.matshow(germgolc_tissue_matrix.toarray()[:,N*M:])\n",
    "    return sp.vstack([poison_air_matrix, germgolc_air_matrix, poison_tissue_matrix, germgolc_tissue_matrix])\n"
   ]
  },
  {
   "cell_type": "code",
   "execution_count": 326,
   "metadata": {},
   "outputs": [],
   "source": [
    "def Dirichlet(variable_name, coordinates, value):\n",
    "    equa_num = len(coordinates)\n",
    "    row = np.arange(equa_num)\n",
    "    col = np.array([coo[0] * M + coo[1] for coo in coordinates])\n",
    "    data = np.ones(equa_num)\n",
    "\n",
    "    vector = value\n",
    "    if variable_name == 'u':\n",
    "        matrix = sp.coo_matrix((data, (row, col)), shape=(equa_num, 2 * N * M))\n",
    "    elif variable_name == 'v':\n",
    "        matrix = sp.coo_matrix((data, (row, col + N * M)), shape=(equa_num, 2 * N * M))\n",
    "\n",
    "    return matrix, vector\n",
    "\n",
    "def Newmann(variable_name, coordinates, external_normal, value):\n",
    "    equa_num = len(coordinates)\n",
    "    row = np.arange(equa_num)\n",
    "    col = np.array([coo[0] * M + coo[1] for coo in coordinates])\n",
    "    data = np.ones(equa_num)\n",
    "\n",
    "    normal = external_normal\n",
    "    vector = value * (normal[0] * dn + normal[1] * dm)\n",
    "    if variable_name == 'u':\n",
    "        matrix = (sp.coo_matrix((data * (normal[0] + normal[1]), (row, col)),\n",
    "                                shape=(equa_num, 2 * N * M)) +\n",
    "                  sp.coo_matrix((-data * (normal[0] + normal[1]), (row, col - normal[0] * M - normal[1])),\n",
    "                                shape=(equa_num, 2 * N * M)))\n",
    "    elif variable_name == 'v':\n",
    "        matrix = (sp.coo_matrix((data * (normal[0] + normal[1]), (row, col + N * M)),\n",
    "                                shape=(equa_num, 2 * N * M)) +\n",
    "                  sp.coo_matrix((-data * (normal[0] + normal[1]), (row, col - normal[0] * M - normal[1] + N * M)),\n",
    "                                shape=(equa_num, 2 * N * M)))\n",
    "    elif variable_name == 'j':\n",
    "        data_sigma = sigma_all[coordinates[:, 0], coordinates[:, 1]]\n",
    "        data_diff = diff_all[coordinates[:, 0], coordinates[:, 1]]\n",
    "        matrix = (sp.coo_matrix((data_sigma * (normal[0] + normal[1]), (row, col)),\n",
    "                                shape=(equa_num, 2 * N * M)) +\n",
    "                  sp.coo_matrix((-data_sigma * (normal[0] + normal[1]), (row, col - normal[0] * M - normal[1])),\n",
    "                                shape=(equa_num, 2 * N * M)) +\n",
    "                  sp.coo_matrix((data_diff * (normal[0] + normal[1]), (row, col + N * M)),\n",
    "                                shape=(equa_num, 2 * N * M)) +\n",
    "                  sp.coo_matrix((-data_diff * (normal[0] + normal[1]), (row, col - normal[0] * M - normal[1] + N * M)),\n",
    "                                shape=(equa_num, 2 * N * M)))\n",
    "\n",
    "    return matrix, vector\n",
    "\n",
    "def Continiosly(variable_name, coordinates_in, coordinates_out, ratio, ratio_dif):\n",
    "    equa_num = len(coordinates_in)\n",
    "    row = np.arange(equa_num)\n",
    "    col1 = np.array([coo[0] * M + coo[1] for coo in coordinates_in])\n",
    "    col2 = np.array([coo[0] * M + coo[1] for coo in coordinates_out])\n",
    "\n",
    "    data = np.ones(equa_num)\n",
    "    vector = np.zeros(2 * equa_num)\n",
    "\n",
    "    if variable_name == 'u':\n",
    "        matrix = sp.vstack([\n",
    "            (sp.coo_matrix((data, (row, col1)), shape=(equa_num, 2 * N * M)) +\n",
    "             sp.coo_matrix((-ratio, (row, col2)), shape=(equa_num, 2 * N * M))),\n",
    "            (sp.coo_matrix((data, (row, col1)), shape=(equa_num, 2 * N * M)) +\n",
    "             sp.coo_matrix((-data, (row, col1 - M)), shape=(equa_num, 2 * N * M)) +\n",
    "             sp.coo_matrix((ratio_dif, (row, col2)), shape=(equa_num, 2 * N * M)) +\n",
    "             sp.coo_matrix((-ratio_dif, (row, col2 + M)), shape=(equa_num, 2 * N * M)))\n",
    "        ])\n",
    "\n",
    "    elif variable_name == 'v':\n",
    "        matrix = sp.vstack([\n",
    "            (sp.coo_matrix((data, (row, col1 + N * M)), shape=(equa_num, 2 * N * M)) +\n",
    "             sp.coo_matrix((-ratio, (row, col2 + N * M)), shape=(equa_num, 2 * N * M))),\n",
    "            (sp.coo_matrix((data, (row, col1 + N * M)), shape=(equa_num, 2 * N * M)) +\n",
    "             sp.coo_matrix((-data, (row, col1 - M + N * M)), shape=(equa_num, 2 * N * M)) +\n",
    "             sp.coo_matrix((ratio_dif, (row, col2 + N * M)), shape=(equa_num, 2 * N * M)) +\n",
    "             sp.coo_matrix((-ratio_dif, (row, col2 + M + N * M)), shape=(equa_num, 2 * N * M)))\n",
    "        ])\n",
    "\n",
    "    return matrix, vector\n",
    "# coo = np.array([[0, m] for m in range(M)])\n",
    "# plt.matshow(Dirichlet('v', coo, np.ones(len(coo)))[0].toarray())\n",
    "# plt.matshow(Newmann('u', coo, [-1, 0], np.ones(len(coo)))[0].toarray())\n",
    "# coo = np.array([[N - 1, m] for m in range(M)])\n",
    "# plt.matshow(Newmann('u', coo, [1, 0], np.ones(len(coo)))[0].toarray())\n",
    "# plt.matshow(Newmann('j', coo, [1, 0], np.ones(len(coo)))[0].toarray()[:, :N * M])\n",
    "# plt.matshow(Newmann('j', coo, [1, 0], np.ones(len(coo)))[0].toarray()[:, N * M:])\n",
    "# plt.matshow(\n",
    "#     Continiosly('v', np.array([[NT - 1, m] for m in range(M)]), np.array([[NT, m] for m in range(M)]),\n",
    "#                 np.ones(M), 2 * np.ones(M))[0].toarray())"
   ]
  },
  {
   "cell_type": "code",
   "execution_count": 327,
   "metadata": {},
   "outputs": [],
   "source": [
    "def solver2D(boundary_conditions):\n",
    "    system_matrix = get_system_matrix_internal()\n",
    "    free_vector = np.zeros(system_matrix.shape[0])\n",
    "    for matrix,vector in boundary_conditions:\n",
    "        system_matrix = sp.vstack([system_matrix,matrix])\n",
    "        free_vector = np.concatenate([free_vector,vector])\n",
    "        \n",
    "    uv = spsolve(system_matrix.tocsr(), free_vector).reshape(2, N, M)\n",
    "    return uv[0], uv[1]"
   ]
  },
  {
   "cell_type": "code",
   "execution_count": 328,
   "metadata": {},
   "outputs": [],
   "source": [
    "coo_air_n_start = np.array([[0, m] for m in range(M)])\n",
    "coo_air_n_stop = np.array([[NT - 2, m] for m in range(M)])\n",
    "coo_air_m_start = np.array([[n, 0] for n in range(0, NT - 1)])\n",
    "coo_air_m_stop = np.array([[n, M - 1] for n in range(0, NT - 1)])\n",
    "\n",
    "coo_tissue_n_start = np.array([[NT-1, m] for m in range(M)])\n",
    "coo_tissue_n_stop = np.array([[N-1, m] for m in range(M)])\n",
    "coo_tissue_m_start = np.array([[n, 0] for n in range(NT-1, N)])\n",
    "coo_tissue_m_stop = np.array([[n, M - 1] for n in range(NT-1, N)])\n",
    "\n",
    "boundary_conditions = [\n",
    "    Dirichlet('u',coo_air_n_start,np.zeros(M)),\n",
    "    Dirichlet('u',coo_air_m_start[1:-1],np.zeros(NT-3)),\n",
    "    Dirichlet('u',coo_air_m_stop[1:-1],np.zeros(NT-3)),\n",
    "    \n",
    "    Dirichlet('v',coo_air_n_start,np.zeros(M)),\n",
    "    Dirichlet('v',coo_air_m_start[1:-1],np.zeros(NT-3)),\n",
    "    Dirichlet('v',coo_air_m_stop[1:-1],np.zeros(NT-3)),\n",
    "    \n",
    "    Newmann('u',coo_tissue_n_stop,[1,0],np.zeros(M)),\n",
    "    Dirichlet('u',coo_tissue_m_start[1:-1],np.ones(N-NT-1)),\n",
    "    Dirichlet('u',coo_tissue_m_stop[1:-1],-np.ones(N-NT-1)),\n",
    "    \n",
    "    Newmann('j',coo_tissue_n_stop,[1,0],np.zeros(M)),\n",
    "    Newmann('j',coo_tissue_m_start[1:-1],[0,-1],np.zeros(N-NT-1)),\n",
    "    Newmann('j',coo_tissue_m_stop[1:-1],[0,1],np.zeros(N-NT-1)),\n",
    "    \n",
    "    Continiosly('u',coo_air_n_stop,coo_tissue_n_start,np.ones(M),eps2[0]/eps1[-1]),\n",
    "    Dirichlet('v',coo_air_n_stop,np.zeros(M)),\n",
    "    Newmann('j',coo_tissue_n_start,[-1,0],np.zeros(M))\n",
    "]\n",
    "u,v = solver2D(boundary_conditions)\n"
   ]
  },
  {
   "cell_type": "code",
   "execution_count": 330,
   "metadata": {},
   "outputs": [
    {
     "data": {
      "text/plain": [
       "<matplotlib.image.AxesImage at 0x2627b9a8e80>"
      ]
     },
     "execution_count": 330,
     "metadata": {},
     "output_type": "execute_result"
    },
    {
     "data": {
      "image/png": "[encoded data removed]",
      "text/plain": [
       "<Figure size 1152x144 with 1 Axes>"
      ]
     },
     "metadata": {},
     "output_type": "display_data"
    },
    {
     "data": {
      "image/png": "[encoded data removed]",
      "text/plain": [
       "<Figure size 1152x144 with 1 Axes>"
      ]
     },
     "metadata": {},
     "output_type": "display_data"
    }
   ],
   "source": [
    "plt.matshow(u)\n",
    "plt.matshow(v)"
   ]
  },
  {
   "cell_type": "code",
   "execution_count": 332,
   "metadata": {},
   "outputs": [
    {
     "data": {
      "text/plain": [
       "[<matplotlib.lines.Line2D at 0x2627ba78080>]"
      ]
     },
     "execution_count": 332,
     "metadata": {},
     "output_type": "execute_result"
    },
    {
     "data": {
      "image/png": "[encoded data removed]",
      "text/plain": [
       "<Figure size 432x288 with 1 Axes>"
      ]
     },
     "metadata": {},
     "output_type": "display_data"
    }
   ],
   "source": [
    "plt.plot(u[-1])"
   ]
  },
  {
   "cell_type": "code",
   "execution_count": 332,
   "metadata": {},
   "outputs": [],
   "source": []
  },
  {
   "cell_type": "code",
   "execution_count": null,
   "metadata": {},
   "outputs": [],
   "source": []
  }
 ],
 "metadata": {
  "kernelspec": {
   "display_name": "Python 2",
   "language": "python",
   "name": "python2"
  },
  "language_info": {
   "codemirror_mode": {
    "name": "ipython",
    "version": 2
   },
   "file_extension": ".py",
   "mimetype": "text/x-python",
   "name": "python",
   "nbconvert_exporter": "python",
   "pygments_lexer": "ipython2",
   "version": "2.7.6"
  }
 },
 "nbformat": 4,
 "nbformat_minor": 0
}
