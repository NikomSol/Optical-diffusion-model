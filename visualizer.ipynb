{
 "cells": [
  {
   "cell_type": "code",
   "execution_count": 3,
   "metadata": {},
   "outputs": [],
   "source": [
    "import sys \n",
    "sys.path.append(\"D:/Work/Programming/Biotissue electroconductivity/OTE\")\n",
    "\n",
    "from input import cnf, properties, condition_start\n",
    "from input import condition_boundary_optic, condition_boundary_electric, condition_boundary_termal\n",
    "from combiner import solver, step_solver\n",
    "\n",
    "import numpy as np\n",
    "from matplotlib import pylab as plt\n",
    "import csv\n",
    " \n",
    "import time\n",
    "import cProfile\n",
    "\n",
    "cnf = {\n",
    "    \"N\": 60,\n",
    "    \"dn\": 1 * 10 ** (-5),\n",
    "    \"M\": 60,\n",
    "    \"dm\": 5 * 10 ** (-5),\n",
    "    \"K\": 10,\n",
    "    \"dk\": 3 * 10 ** (-4)\n",
    "}\n",
    "cnf['NAir'] = int(cnf['N'])\n",
    "cnf[\"el1_M\"] = int(1 * cnf['M'] / 3)\n",
    "cnf['el2_M'] = int(2 * cnf['M'] / 3)\n",
    "\n",
    "N = cnf['N']\n",
    "M = cnf['M']\n",
    "K = cnf['K']\n",
    "dn = cnf['dn']\n",
    "dm = cnf['dm']\n",
    "dk = cnf['dk']"
   ]
  },
  {
   "cell_type": "code",
   "execution_count": 2,
   "metadata": {},
   "outputs": [
    {
     "data": {
      "text/plain": [
       "'\\nПрофилирование\\nncalls – это количество совершенных вызовов;\\ntottime – это все время, потраченное в данной функции;\\npercall – ссылается на коэффициент tottime, деленный на ncalls;\\ncumtime – совокупное время, потраченное как в данной функции, так и наследуемых функциях. Это работает также и с рекурсивными функциями!\\nВторой столбец percall – это коэффициент cumtime деленный на примитивные вызовы;\\nfilename:lineno(function) предоставляет соответствующие данные о каждой функции\\n'"
      ]
     },
     "execution_count": 2,
     "metadata": {},
     "output_type": "execute_result"
    }
   ],
   "source": [
    "\"\"\"\n",
    "Профилирование\n",
    "ncalls – это количество совершенных вызовов;\n",
    "tottime – это все время, потраченное в данной функции;\n",
    "percall – ссылается на коэффициент tottime, деленный на ncalls;\n",
    "cumtime – совокупное время, потраченное как в данной функции, так и наследуемых функциях. Это работает также и с рекурсивными функциями!\n",
    "Второй столбец percall – это коэффициент cumtime деленный на примитивные вызовы;\n",
    "filename:lineno(function) предоставляет соответствующие данные о каждой функции\n",
    "\"\"\"\n",
    "# cProfile.run(\"solver(cnf, properties, condition_start, condition_boundary_optic, condition_boundary_electric,condition_boundary_termal)\",\n",
    "#              sort = 'cumtime')"
   ]
  },
  {
   "cell_type": "code",
   "execution_count": 4,
   "metadata": {},
   "outputs": [],
   "source": [
    "sol_all = solver(cnf, properties,\n",
    "                 condition_start,\n",
    "                 condition_boundary_optic,\n",
    "                 condition_boundary_electric,\n",
    "                 condition_boundary_termal)"
   ]
  },
  {
   "cell_type": "code",
   "execution_count": 5,
   "metadata": {},
   "outputs": [
    {
     "data": {
      "text/plain": [
       "<matplotlib.colorbar.Colorbar at 0x7f198bca6700>"
      ]
     },
     "execution_count": 5,
     "metadata": {},
     "output_type": "execute_result"
    },
    {
     "data": {
      "image/png": "[encoded data removed]",
      "text/plain": [
       "<Figure size 288x288 with 2 Axes>"
      ]
     },
     "metadata": {
      "needs_background": "light"
     },
     "output_type": "display_data"
    }
   ],
   "source": [
    "plt.matshow(sol_all['T'][-1])\n",
    "plt.colorbar()"
   ]
  },
  {
   "cell_type": "code",
   "execution_count": 8,
   "metadata": {},
   "outputs": [
    {
     "data": {
      "text/plain": [
       "<matplotlib.colorbar.Colorbar at 0x1dd9b016630>"
      ]
     },
     "execution_count": 6,
     "metadata": {},
     "output_type": "execute_result"
    },
    {
     "data": {
      "image/png": "[encoded data removed]",
      "text/plain": [
       "<Figure size 288x288 with 2 Axes>"
      ]
     },
     "metadata": {},
     "output_type": "display_data"
    }
   ],
   "source": [
    "deg_volume = np.zeros(K)\n",
    "dV_matrix = np.array([[dm * dn * m for n in range(N)] for m in range(M)])\n",
    "for k in range(K):\n",
    "    deg_volume[k] = ((sol_all['g'][0] - sol_all['g'][k]) * dV_matrix).sum()\n",
    "# plt.plot(deg_volume)\n",
    "plt.matshow(sol_all['g'][-1])\n",
    "plt.colorbar()"
   ]
  },
  {
   "cell_type": "code",
   "execution_count": 8,
   "metadata": {},
   "outputs": [
    {
     "data": {
      "text/plain": [
       "[<matplotlib.lines.Line2D at 0x1dd9b152278>]"
      ]
     },
     "execution_count": 8,
     "metadata": {},
     "output_type": "execute_result"
    },
    {
     "data": {
      "image/png": "[encoded data removed]",
      "text/plain": [
       "<Figure size 432x288 with 1 Axes>"
      ]
     },
     "metadata": {},
     "output_type": "display_data"
    }
   ],
   "source": [
    "plt.plot(sol_all['u'][:,cnf['NAir'],cnf['el2_M']])\n",
    "# plt.matshow(sol_all['u'][-1])\n",
    "# plt.colorbar()"
   ]
  },
  {
   "cell_type": "code",
   "execution_count": 18,
   "metadata": {},
   "outputs": [],
   "source": []
  },
  {
   "cell_type": "code",
   "execution_count": 14,
   "metadata": {},
   "outputs": [
    {
     "data": {
      "text/plain": [
       "array([1.70381484e-09, 1.70381484e-09, 5.17644377e-04, 9.57056215e-04,\n",
       "       1.35060449e-03, 1.70781297e-03, 2.03591535e-03, 2.33946222e-03,\n",
       "       2.62197475e-03, 2.88612184e-03, 3.13405733e-03, 3.36753465e-03,\n",
       "       3.58801833e-03, 3.79674547e-03, 3.99477570e-03, 4.18302517e-03,\n",
       "       4.36229328e-03, 4.53328268e-03, 4.69661513e-03, 4.85284402e-03,\n",
       "       5.00246447e-03, 5.14592154e-03, 5.28361696e-03, 5.41591480e-03,\n",
       "       5.54314611e-03, 5.66561290e-03, 5.78359155e-03, 5.89733561e-03,\n",
       "       6.00707837e-03, 6.11303490e-03, 6.21540400e-03, 6.31436976e-03,\n",
       "       6.41010300e-03, 6.50276254e-03, 6.59249627e-03, 6.67944216e-03,\n",
       "       6.76372909e-03, 6.84547767e-03, 6.92480089e-03, 7.00180480e-03,\n",
       "       7.07658899e-03, 7.14924718e-03, 7.21986762e-03, 7.28853350e-03,\n",
       "       7.35532329e-03, 7.42031129e-03, 7.48356754e-03, 7.54515842e-03,\n",
       "       7.60514724e-03, 7.66359322e-03, 7.72055283e-03, 7.77608068e-03,\n",
       "       7.83022826e-03, 7.88304248e-03, 7.93457003e-03, 7.98485626e-03,\n",
       "       8.03394480e-03, 8.08187451e-03, 8.12868015e-03, 8.17440018e-03,\n",
       "       8.21907111e-03, 8.26272856e-03, 8.30540791e-03, 8.34713420e-03,\n",
       "       8.38793020e-03, 8.42782807e-03, 8.46685730e-03, 8.50504515e-03,\n",
       "       8.54242119e-03, 8.57901750e-03, 8.61485070e-03, 8.64992304e-03,\n",
       "       8.68425723e-03, 8.71788198e-03, 8.75081932e-03, 8.78308900e-03,\n",
       "       8.81471344e-03, 8.84572252e-03, 8.87615011e-03, 8.90600199e-03,\n",
       "       8.93525217e-03, 8.96390548e-03, 8.99199261e-03, 9.01953810e-03,\n",
       "       9.04655747e-03, 9.07306388e-03, 9.09907262e-03, 9.12460586e-03,\n",
       "       9.14969863e-03, 9.17439650e-03, 9.19871891e-03, 9.22261622e-03,\n",
       "       9.24603069e-03, 9.26896857e-03, 9.29146687e-03, 9.31355464e-03,\n",
       "       9.33524770e-03, 9.35655519e-03, 9.37748536e-03, 9.39804895e-03,\n",
       "       9.41826291e-03, 9.43815598e-03, 9.45777539e-03, 9.47718602e-03,\n",
       "       9.49643886e-03, 9.51550431e-03, 9.53426238e-03, 9.55261327e-03,\n",
       "       9.57054938e-03, 9.58811447e-03, 9.60535281e-03, 9.62229289e-03,\n",
       "       9.63894968e-03, 9.65533076e-03, 9.67144113e-03, 9.68728686e-03,\n",
       "       9.70287710e-03, 9.71822712e-03, 9.73336250e-03, 9.74832501e-03,\n",
       "       9.76317922e-03, 9.77801318e-03, 9.79291815e-03, 9.80793177e-03,\n",
       "       9.82297167e-03, 9.83784760e-03, 9.85237992e-03, 9.86649523e-03,\n",
       "       9.88021529e-03, 9.89359844e-03, 9.90670027e-03, 9.91956091e-03,\n",
       "       9.93220572e-03, 9.94464959e-03, 9.95690115e-03, 9.96896638e-03,\n",
       "       9.98084955e-03, 9.99255777e-03, 1.00041002e-02, 1.00154910e-02,\n",
       "       1.00267518e-02, 1.00379155e-02, 1.00490312e-02, 1.00601701e-02,\n",
       "       1.00714295e-02, 1.00829294e-02, 1.00947923e-02, 1.01070973e-02,\n",
       "       1.01198185e-02, 1.01327907e-02, 1.01457466e-02, 1.01584270e-02,\n",
       "       1.01706682e-02, 1.01824234e-02, 1.01937256e-02, 1.02046412e-02,\n",
       "       1.02152389e-02, 1.02255764e-02, 1.02356975e-02, 1.02456338e-02,\n",
       "       1.02554074e-02, 1.02650343e-02, 1.02745259e-02, 1.02838915e-02,\n",
       "       1.02931389e-02, 1.03022788e-02, 1.03113141e-02, 1.03202603e-02,\n",
       "       1.03291312e-02, 1.03379452e-02, 1.03467273e-02, 1.03555115e-02,\n",
       "       1.03643437e-02, 1.03732864e-02, 1.03824206e-02, 1.03918522e-02,\n",
       "       1.04017089e-02, 1.04121346e-02, 1.04232721e-02, 1.04352319e-02,\n",
       "       1.04480521e-02, 1.04616603e-02, 1.04758598e-02, 1.04903567e-02,\n",
       "       1.05048261e-02, 1.05189775e-02, 1.05326185e-02, 1.05456543e-02,\n",
       "       1.05580737e-02, 1.05699183e-02, 1.05812550e-02, 1.05921563e-02,\n",
       "       1.06026904e-02, 1.06129156e-02, 1.06228803e-02, 1.06326234e-02,\n",
       "       1.06421756e-02, 1.06515618e-02, 1.06608019e-02, 1.06699125e-02,\n",
       "       1.06789078e-02])"
      ]
     },
     "execution_count": 14,
     "metadata": {},
     "output_type": "execute_result"
    }
   ],
   "source": [
    "np.array(sol_all['u'][:,cnf['NAir'],cnf['el2_M']])"
   ]
  },
  {
   "cell_type": "code",
   "execution_count": null,
   "metadata": {},
   "outputs": [],
   "source": []
  }
 ],
 "metadata": {
  "kernelspec": {
   "display_name": "Python 3",
   "language": "python",
   "name": "python3"
  },
  "language_info": {
   "codemirror_mode": {
    "name": "ipython",
    "version": 3
   },
   "file_extension": ".py",
   "mimetype": "text/x-python",
   "name": "python",
   "nbconvert_exporter": "python",
   "pygments_lexer": "ipython3",
   "version": "3.8.10"
  }
 },
 "nbformat": 4,
 "nbformat_minor": 1
}
