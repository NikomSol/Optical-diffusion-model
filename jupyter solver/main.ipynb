{
 "cells": [
  {
   "cell_type": "code",
   "execution_count": 34,
   "metadata": {},
   "outputs": [],
   "source": [
    "from electric import solve\n",
    "# from optic import solve\n",
    "# from thermal import solve\n",
    "# from degrading import solve\n",
    "\n",
    "import numpy as np"
   ]
  },
  {
   "cell_type": "code",
   "execution_count": 57,
   "metadata": {},
   "outputs": [],
   "source": [
    "class Boundary():\n",
    "    def __init__(self,variable, condition_type, coefficients, external_normal, area):\n",
    "        self.variable = variable\n",
    "        self.condition_type = condition_type\n",
    "        self.coefficients = coefficients\n",
    "        self.area = area\n",
    "        self.external_normal = external_normal"
   ]
  },
  {
   "cell_type": "code",
   "execution_count": null,
   "metadata": {},
   "outputs": [],
   "source": [
    "def step_solver(old_T, old_g):\n",
    "    new_I, new_Q = optic.solve(old_T, old_g)\n",
    "    new_u, new_q = electric.solve(old_T, old_g)\n",
    "    \n",
    "    new_T = thermal.solve(old_T, new_Q)\n",
    "    new_g = degrading.solve(old_g, new_T)\n",
    "    \n",
    "    return {\"I\": new_I, \"Q\": new_Q, \"u\": new_u, \"q\": new_q, \"T\": new_T, \"g\": new_g}"
   ]
  },
  {
   "cell_type": "code",
   "execution_count": null,
   "metadata": {},
   "outputs": [],
   "source": [
    "def solver():\n",
    "    solution = {\n",
    "        \"T\": np.array([condition_start['T']]),\n",
    "        \"g\": np.array([condition_start['g']])\n",
    "    }\n",
    "    for k in range(K):\n",
    "        step_solution = step_solver(solution['T'][-1], solution['g'][-1])\n",
    "    \n",
    "        solution['I'] = np.concatenate((solution['I'], [step_solution['I']]))\n",
    "        solution['Q'] = np.concatenate((solution['Q'], [step_solution['Q']]))\n",
    "        solution['u'] = np.concatenate((solution['u'], [step_solution['u']]))\n",
    "        solution['q'] = np.concatenate((solution['q'], [step_solution['q']]))\n",
    "        solution['T'] = np.concatenate((solution['T'], [step_solution['T']]))\n",
    "        solution['g'] = np.concatenate((solution['g'], [step_solution['g']]))"
   ]
  },
  {
   "cell_type": "code",
   "execution_count": 35,
   "metadata": {},
   "outputs": [],
   "source": [
    "N = 100\n",
    "dn = 10 ** (-9)\n",
    "M = 200\n",
    "dm = 10 ** (-9)\n",
    "K = 10\n",
    "dK = 10 ** (-6)"
   ]
  },
  {
   "cell_type": "code",
   "execution_count": 44,
   "metadata": {},
   "outputs": [],
   "source": [
    "properties_electro = {\n",
    "    \"eps\": lambda T,g: 81 * T/T,\n",
    "    \"sigma\": lambda T,g: (10 ** (-1) * (1-g) + 10 ** (-3) * g) * (1-0.01 * (T-360)),\n",
    "    \"diffusion\": lambda T,g: 10 ** (-7) * T\n",
    "}\n",
    "\n",
    "properties_thermo = {}\n",
    "\n",
    "properties_optic = {}"
   ]
  },
  {
   "cell_type": "code",
   "execution_count": null,
   "metadata": {},
   "outputs": [],
   "source": [
    "condition_start = {\n",
    "    'T': 300 * np.ones((N,M)),\n",
    "    'g': 1 * np.ones((N,M))\n",
    "}"
   ]
  },
  {
   "cell_type": "code",
   "execution_count": 64,
   "metadata": {},
   "outputs": [],
   "source": [
    "coo_n_start = np.array([[0, m] for m in range(M)])\n",
    "coo_n_stop = np.array([[N - 1, m] for m in range(M)])\n",
    "coo_m_start = np.array([[n, 0] for n in range(0, N)])\n",
    "coo_m_stop = np.array([[n, M - 1] for n in range(0, N)])\n",
    "\n",
    "def condition_boundary_termal(T,g):\n",
    "    return [\n",
    "        Boundary('T','Newton',coo_n_start,[-1,0],np.ones(M)),\n",
    "        Boundary('T','Dirichlet',coo_n_stop,[1,0],np.zeros(M)),\n",
    "        Boundary('T','Newmann',coo_m_start[1:-1],[0,-1],np.zeros(N-2)),\n",
    "        Boundary('T','Dirichlet',coo_m_stop[1:-1],[0,1],np.zeros(N-2)),\n",
    "    ]\n",
    "\n",
    "def condition_boundary_optic(T,g):\n",
    "    return [\n",
    "        Boundary('I','Newton',coo_n_start,[-1,0],np.ones(M)),\n",
    "        Boundary('I','Dirichlet',coo_n_stop,[1,0],np.zeros(M)),\n",
    "        Boundary('I','Newmann',coo_m_start[1:-1],[0,-1],np.zeros(N-2)),\n",
    "        Boundary('I','Dirichlet',coo_m_stop[1:-1],[0,1],np.zeros(N-2)),\n",
    "    ]\n",
    "\n",
    "NAir = N\n",
    "coo_air_n_start = np.array([[0, m] for m in range(M)])\n",
    "coo_air_n_stop = np.array([[NAir - 1, m] for m in range(M)])\n",
    "coo_air_m_start = np.array([[n, 0] for n in range(0, NAir)])\n",
    "coo_air_m_stop = np.array([[n, M - 1] for n in range(0, NAir)])\n",
    "\n",
    "coo_tissue_n_start = np.array([[NAir, m] for m in range(M)])\n",
    "coo_tissue_n_stop = np.array([[N + NAir - 1, m] for m in range(M)])\n",
    "coo_tissue_m_start = np.array([[n, 0] for n in range(NAir, N + NAir)])\n",
    "coo_tissue_m_stop = np.array([[n, M - 1] for n in range(NAir, N + NAir)])\n",
    "\n",
    "# el1_M = int(7 * M / 15)\n",
    "# el2_M = int(8 * M / 15)\n",
    "# ne_M = np.delete(np.arange(M),[el1_M,el2_M])\n",
    "# coo_air_el1 = np.array([[NAir - 1, el1_M]])\n",
    "# coo_air_el2 = np.array([[NAir - 1, el2_M]])\n",
    "# coo_air_n_stop_ne = np.array([[NAir - 1, m] for m in ne_M])  \n",
    "# coo_tissue_el1 = np.array([[NAir, el1_M]])\n",
    "# coo_tissue_el2 = np.array([[NAir, el2_M]])\n",
    "# coo_tissue_n_start_ne = np.array([[NAir, m] for m in ne_M])  \n",
    "\n",
    "def condition_boundary_electro(T,g): \n",
    "    return [\n",
    "        Boundary('u','Dirichlet',coo_air_n_start,[-1,0],np.zeros(M)),\n",
    "        Boundary('u','Dirichlet',coo_air_m_start[1:-1],[0,-1],np.zeros(NAir-2)),\n",
    "        Boundary('u','Dirichlet',coo_air_m_stop[1:-1],[0,1],np.zeros(NAir-2)),\n",
    "\n",
    "        Boundary('q','Dirichlet',coo_air_n_start,[-1,0],np.zeros(M)),\n",
    "        Boundary('q','Dirichlet',coo_air_m_start[1:-1],[0,-1],np.zeros(NAir-2)),\n",
    "        Boundary('q','Dirichlet',coo_air_m_stop[1:-1],[0,1],np.zeros(NAir-2)),\n",
    "\n",
    "        Boundary('u','Newmann',coo_tissue_n_stop,[1,0],np.zeros(M)),\n",
    "        Boundary('u','Dirichlet',coo_tissue_m_start[1:-1],[0,-1],np.ones(N-2)),\n",
    "        Boundary('u','Dirichlet',coo_tissue_m_stop[1:-1],[0,1],-np.ones(N-2)),\n",
    "\n",
    "        Boundary('j','Newmann',coo_tissue_n_stop,[1,0],np.zeros(M)),\n",
    "        Boundary('j','Newmann',coo_tissue_m_start[1:-1],[0,-1],np.zeros(N-2)),\n",
    "        Boundary('j','Newmann',coo_tissue_m_stop[1:-1],[0,1],np.zeros(N-2)),\n",
    "\n",
    "        Boundary('u','Continiosly',[coo_air_n_stop,coo_tissue_n_start],[[0,1],[0,-1]],\n",
    "                 [np.ones(M),properties_electro['eps'](T,g)]),\n",
    "        Boundary('v','Dirichlet',coo_air_n_stop,[0,1],np.zeros(M)),\n",
    "        Boundary('j','Newmann',coo_tissue_n_start,[-1,0],np.zeros(M))\n",
    "    ]"
   ]
  },
  {
   "cell_type": "code",
   "execution_count": null,
   "metadata": {},
   "outputs": [],
   "source": []
  }
 ],
 "metadata": {
  "kernelspec": {
   "display_name": "Python 3",
   "language": "python",
   "name": "python3"
  },
  "language_info": {
   "codemirror_mode": {
    "name": "ipython",
    "version": 3
   },
   "file_extension": ".py",
   "mimetype": "text/x-python",
   "name": "python",
   "nbconvert_exporter": "python",
   "pygments_lexer": "ipython3",
   "version": "3.8.10"
  }
 },
 "nbformat": 4,
 "nbformat_minor": 4
}
